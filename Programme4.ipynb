{
 "cells": [
  {
   "cell_type": "markdown",
   "id": "4ff325a4",
   "metadata": {},
   "source": [
    "# Creating a login"
   ]
  },
  {
   "cell_type": "code",
   "execution_count": 2,
   "id": "e68e4e93",
   "metadata": {},
   "outputs": [
    {
     "name": "stdout",
     "output_type": "stream",
     "text": [
      "HELLO CREATE AN ACCOUNT TODAY \n",
      "whats your full name: John Louis\n",
      "create a username: LOU1\n",
      "create a password: JO22\n",
      "CONGRATULATIONS !John Louis ACCOUNT CREATED !\n",
      "WELCOME !John Louis PLEASE LOGIN INTO YOUR ACCOUNT\n",
      "enter your username: Lo\n",
      "enter your password: J02\n",
      "WRONG INPUTS TRY AGAIN!\n",
      "WELCOME !John Louis PLEASE LOGIN INTO YOUR ACCOUNT\n",
      "enter your username: JO\n",
      "enter your password: KJ\n",
      "WRONG INPUTS TRY AGAIN!\n",
      "WELCOME !John Louis PLEASE LOGIN INTO YOUR ACCOUNT\n",
      "enter your username: LO\n",
      "enter your password: LO\n",
      "WRONG INPUTS TRY AGAIN!\n"
     ]
    }
   ],
   "source": [
    "print(\"HELLO CREATE AN ACCOUNT TODAY \")\n",
    "\n",
    "\n",
    "fullname= input(\"whats your full name: \")\n",
    "\n",
    "username= input(\"create a username: \")\n",
    "password= input(\"create a password: \").capitalize()\n",
    "\n",
    "\n",
    "print(f\"CONGRATULATIONS !{fullname} ACCOUNT CREATED !\")\n",
    "\n",
    "\n",
    "attempts=0\n",
    "\n",
    "\n",
    "while attempts < 3:\n",
    "    \n",
    "    \n",
    "    \n",
    "    print(f\"WELCOME !{fullname} PLEASE LOGIN INTO YOUR ACCOUNT\")\n",
    "    \n",
    "    \n",
    "    username_veri= input(\"enter your username: \")\n",
    "    password_veri= input(\"enter your password: \").capitalize()\n",
    "    \n",
    "    \n",
    "    if username_veri==username and password_veri==password:\n",
    "        \n",
    "        print(\"LOGIN SUCCESSFUL !\")\n",
    "        \n",
    "        break\n",
    "        \n",
    "        \n",
    "    elif username_veri !=username and password_veri !=password:\n",
    "        \n",
    "        print(\"WRONG INPUTS TRY AGAIN!\")\n",
    "        \n",
    "        attempts= attempts + 1\n"
   ]
  },
  {
   "cell_type": "code",
   "execution_count": null,
   "id": "3b93ae38",
   "metadata": {},
   "outputs": [],
   "source": [
    "\n",
    "while True:\n",
    "    name = 'John'\n",
    "    name1 = input(' Please enter your username: ')\n",
    "    if name != name1:\n",
    "        print('Username Incorrect. Please try again')\n",
    "        continue\n",
    "    print( 'Hi ' + name + ', Please enter your password. You have only one password attempt!')\n",
    "    password = 'JJ221'\n",
    "    password1 = input()\n",
    "    if password == password1:\n",
    "        print ('Access Granted!')\n",
    "    else:\n",
    "        print('Password incorrect. Please try again in 30 minutes')\n",
    "        break"
   ]
  },
  {
   "cell_type": "code",
   "execution_count": null,
   "id": "7afd132a",
   "metadata": {},
   "outputs": [],
   "source": []
  },
  {
   "cell_type": "code",
   "execution_count": null,
   "id": "b1f48947",
   "metadata": {},
   "outputs": [],
   "source": []
  },
  {
   "cell_type": "code",
   "execution_count": null,
   "id": "0cc02bed",
   "metadata": {},
   "outputs": [],
   "source": []
  },
  {
   "cell_type": "code",
   "execution_count": null,
   "id": "2c296d24",
   "metadata": {},
   "outputs": [],
   "source": []
  }
 ],
 "metadata": {
  "kernelspec": {
   "display_name": "Python 3 (ipykernel)",
   "language": "python",
   "name": "python3"
  },
  "language_info": {
   "codemirror_mode": {
    "name": "ipython",
    "version": 3
   },
   "file_extension": ".py",
   "mimetype": "text/x-python",
   "name": "python",
   "nbconvert_exporter": "python",
   "pygments_lexer": "ipython3",
   "version": "3.8.8"
  }
 },
 "nbformat": 4,
 "nbformat_minor": 5
}
