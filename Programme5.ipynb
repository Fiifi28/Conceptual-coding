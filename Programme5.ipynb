{
 "cells": [
  {
   "cell_type": "markdown",
   "id": "1d2bdc6a",
   "metadata": {},
   "source": [
    "# Write a code that takes in a library of drugs and conditions(symptoms) and turn that into a program and assigns "
   ]
  },
  {
   "cell_type": "code",
   "execution_count": 29,
   "id": "7f77c7c6",
   "metadata": {},
   "outputs": [
    {
     "name": "stdout",
     "output_type": "stream",
     "text": [
      "what is the problem?: fever\n",
      "Because you have fever, you need to take ibuprofen\n"
     ]
    }
   ],
   "source": [
    "\n",
    "Drugs = ['paracetamol', 'ibuprofen', 'neurofen']\n",
    "\n",
    "Conditions = ['headache', 'fever', 'pain', 'antihistamine']\n",
    "\n",
    "\n",
    "\n",
    "def med ():\n",
    "\n",
    "    condition1 = input('what is the problem?: ')\n",
    "    \n",
    "    condition1 = condition1.lower()\n",
    "    \n",
    "    if condition1 == Conditions[0]:\n",
    "        print (f'Because you have {Conditions[0]}, you need to take {Drugs[0]}')\n",
    "    elif condition1 == Conditions[1]:\n",
    "        print (f'Because you have {Conditions[1]}, you need to take {Drugs[1]}')\n",
    "    elif condition1 == Conditions[2]:\n",
    "        print(f'Because you have {Conditions[2]}, you need to take {Drugs[2]}')\n",
    "\n",
    "\n",
    "med ()\n",
    "\n",
    "\n"
   ]
  },
  {
   "cell_type": "code",
   "execution_count": 28,
   "id": "ff4a0f87",
   "metadata": {},
   "outputs": [
    {
     "name": "stdout",
     "output_type": "stream",
     "text": [
      "Gana\n"
     ]
    }
   ],
   "source": [
    "\n",
    "\n",
    "Country = 'Ghana'\n",
    "\n",
    "Country1 = Country[0] + Country[2:]\n",
    "\n",
    "print(Country1)\n",
    "\n",
    "\n"
   ]
  },
  {
   "cell_type": "code",
   "execution_count": null,
   "id": "1fa1674d",
   "metadata": {},
   "outputs": [],
   "source": []
  }
 ],
 "metadata": {
  "kernelspec": {
   "display_name": "Python 3 (ipykernel)",
   "language": "python",
   "name": "python3"
  },
  "language_info": {
   "codemirror_mode": {
    "name": "ipython",
    "version": 3
   },
   "file_extension": ".py",
   "mimetype": "text/x-python",
   "name": "python",
   "nbconvert_exporter": "python",
   "pygments_lexer": "ipython3",
   "version": "3.8.8"
  }
 },
 "nbformat": 4,
 "nbformat_minor": 5
}
