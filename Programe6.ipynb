{
 "cells": [
  {
   "cell_type": "markdown",
   "id": "3bf43063",
   "metadata": {},
   "source": [
    "# Write a programme that takes user password three times (3 attempts only)"
   ]
  },
  {
   "cell_type": "code",
   "execution_count": 1,
   "id": "dd26b298",
   "metadata": {},
   "outputs": [
    {
     "name": "stdout",
     "output_type": "stream",
     "text": [
      "Please insert your password: Hoda\n",
      "Access Granted!\n"
     ]
    }
   ],
   "source": [
    "#Writing it using a For loop\n",
    "\n",
    "for i in range(3):\n",
    "    password = 'Hoda'       #if the password corresponds to this password straight away\n",
    "    P1 = input ('Please insert your password: ')\n",
    "    if P1 == password:\n",
    "        print('Access Granted!') #then access will be granted! Else, it will give the user 3 chances.\n",
    "        break\n",
    "    else:\n",
    "        print ('Access Denied!')  # this will only be printed if the user fails to input the correct password thrice."
   ]
  },
  {
   "cell_type": "code",
   "execution_count": 6,
   "id": "c862b79b",
   "metadata": {},
   "outputs": [
    {
     "name": "stdout",
     "output_type": "stream",
     "text": [
      "Please insert your password: Hoda\n",
      "Access Granted!\n"
     ]
    }
   ],
   "source": [
    "#Writing same programme using a while loop\n",
    "\n",
    "attempts = 0\n",
    "\n",
    "while attempts < 3:\n",
    "    password = 'Hoda' \n",
    "    P1 = input ('Please insert your password: ')\n",
    "    if P1 == password:\n",
    "        print('Access Granted!')\n",
    "        break\n",
    "    else:\n",
    "        print ('Access Denied!')\n",
    "        attempts = attempts + 1\n",
    "        "
   ]
  },
  {
   "cell_type": "code",
   "execution_count": null,
   "id": "65a92385",
   "metadata": {},
   "outputs": [],
   "source": []
  }
 ],
 "metadata": {
  "kernelspec": {
   "display_name": "Python 3 (ipykernel)",
   "language": "python",
   "name": "python3"
  },
  "language_info": {
   "codemirror_mode": {
    "name": "ipython",
    "version": 3
   },
   "file_extension": ".py",
   "mimetype": "text/x-python",
   "name": "python",
   "nbconvert_exporter": "python",
   "pygments_lexer": "ipython3",
   "version": "3.8.8"
  }
 },
 "nbformat": 4,
 "nbformat_minor": 5
}
