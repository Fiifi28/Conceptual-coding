{
 "cells": [
  {
   "cell_type": "markdown",
   "id": "51fec5cb",
   "metadata": {},
   "source": [
    "#  Programme that authenticates custumer password "
   ]
  },
  {
   "cell_type": "code",
   "execution_count": 5,
   "id": "0ea96b26",
   "metadata": {},
   "outputs": [
    {
     "name": "stdout",
     "output_type": "stream",
     "text": [
      "PLEASE CREATE A PASSWORD BELOW\n",
      "must include special characters and more than 5 characters\n",
      "create a password: Johnybravo\n",
      "failed !! you tried 1 times make sure you check password requirements and try again\n",
      "create a password: 10\n",
      "failed !! you tried 2 times make sure you check password requirements and try again\n",
      "create a password: \n",
      "failed !! you tried 3 times make sure you check password requirements and try again\n"
     ]
    }
   ],
   "source": [
    "import re, string\n",
    "\n",
    "print(\"PLEASE CREATE A PASSWORD BELOW\")\n",
    "\n",
    "print(\"must include special characters and more than 5 characters\")\n",
    "\n",
    "attempts= 0\n",
    "\n",
    "while attempts < 3:\n",
    "    \n",
    "    password= input(\"create a password: \")\n",
    "    \n",
    "    special_char= re.compile(\"[@_!#$%^&*()<>?/\\|}{~:]\")\n",
    "\n",
    "#checking if special characters are in my password\n",
    "\n",
    "\n",
    "    if (special_char.search(password)== None) or len(password) < 5:\n",
    "        \n",
    "        attempts+=1\n",
    "    \n",
    "        print(f\"failed !! you tried {attempts} times make sure you check password requirements and try again\")\n",
    "\n",
    "        \n",
    "    else:\n",
    "        \n",
    "        print(\"PASWORD CREATED \")\n",
    "        \n",
    "        break"
   ]
  },
  {
   "cell_type": "code",
   "execution_count": null,
   "id": "1ea5a2d9",
   "metadata": {},
   "outputs": [],
   "source": []
  }
 ],
 "metadata": {
  "kernelspec": {
   "display_name": "Python 3 (ipykernel)",
   "language": "python",
   "name": "python3"
  },
  "language_info": {
   "codemirror_mode": {
    "name": "ipython",
    "version": 3
   },
   "file_extension": ".py",
   "mimetype": "text/x-python",
   "name": "python",
   "nbconvert_exporter": "python",
   "pygments_lexer": "ipython3",
   "version": "3.8.8"
  }
 },
 "nbformat": 4,
 "nbformat_minor": 5
}
