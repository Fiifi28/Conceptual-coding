{
 "cells": [
  {
   "cell_type": "markdown",
   "id": "0ddf9467",
   "metadata": {},
   "source": [
    "# Write a function that will calculate the BMI of a patient after taking in his/her height and weight"
   ]
  },
  {
   "cell_type": "code",
   "execution_count": 8,
   "id": "ef209b25",
   "metadata": {},
   "outputs": [
    {
     "name": "stdout",
     "output_type": "stream",
     "text": [
      "What is your weight in kilograms: 70\n",
      "What is your height in metres: 1.85\n",
      "Your BMI is 20.45288531775018\n",
      "Because your BMI is 20.45288531775018 kg/m^2, and it is within the normal range, keep maintaining that!\n"
     ]
    }
   ],
   "source": [
    "def bmi():\n",
    "    weight = float(input('What is your weight in kilograms: '))\n",
    "    height = float(input('What is your height in metres: '))\n",
    "    BMI = weight/height**2\n",
    "    print(f'Your BMI is {BMI}')\n",
    "    \n",
    "    if 18 <= int(BMI) <= 25: #Because the BMI may not be stored in an int, safe to int it\n",
    "        print (f'Because your BMI is {BMI} kg/m^2, and it is within the normal range, keep maintaining that!')\n",
    "    if 26 <= int(BMI) <= 30:\n",
    "        print (f'Because your BMI is {BMI} kg/m^2, you are within the overweight range, try reducing weight', end=' ')\n",
    "        print ('untill your BMI is withing 18 and 25 kg/m^2')\n",
    "    if 31 <= int(BMI) <= 35:\n",
    "        print (f'Because your BMI is {BMI} kg/m^2, you are within the clinically obese range, try reducing weight', end = ' ')\n",
    "        print ('untill your BMI is withing 18 and 25 kg/m^2 as you are at risk of many clinical conditions')\n",
    "    elif 36 <= int(BMI) <= 40:\n",
    "        print (f'Because your BMI is {BMI} kg/m^2, you are within the morbid obesity , try reducing weight', end = ' ')\n",
    "        print ('untill your BMI is withing 18 and 25 kg/m^2 as you are at risk of cardiovascular diseases')\n",
    "        \n",
    "bmi()"
   ]
  },
  {
   "cell_type": "code",
   "execution_count": null,
   "id": "131ea6b8",
   "metadata": {},
   "outputs": [],
   "source": []
  }
 ],
 "metadata": {
  "kernelspec": {
   "display_name": "Python 3 (ipykernel)",
   "language": "python",
   "name": "python3"
  },
  "language_info": {
   "codemirror_mode": {
    "name": "ipython",
    "version": 3
   },
   "file_extension": ".py",
   "mimetype": "text/x-python",
   "name": "python",
   "nbconvert_exporter": "python",
   "pygments_lexer": "ipython3",
   "version": "3.8.8"
  }
 },
 "nbformat": 4,
 "nbformat_minor": 5
}
