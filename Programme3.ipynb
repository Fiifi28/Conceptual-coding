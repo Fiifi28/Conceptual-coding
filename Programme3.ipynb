{
 "cells": [
  {
   "cell_type": "markdown",
   "id": "8a6eb009",
   "metadata": {},
   "source": [
    "# Write a code that tells the patient whether their heart rate is within a normal range"
   ]
  },
  {
   "cell_type": "code",
   "execution_count": 6,
   "id": "b7b3a84b",
   "metadata": {},
   "outputs": [
    {
     "name": "stdout",
     "output_type": "stream",
     "text": [
      "What is your heart rate in beats/minute?: 120\n",
      "Because your heart rate is 120, and it is higher than 100 beats/minute, you may be at risk of tachycardia. Tachycardia is high heart rate.\n"
     ]
    }
   ],
   "source": [
    "def heart_rate():\n",
    "    Heart_rate = input('What is your heart rate in beats/minute?: ')\n",
    "    \n",
    "    if 60 <= int(Heart_rate) <= 100:\n",
    "        print (f'Because your heart rate is {Heart_rate}, and it is within 60 and 100', end='')\n",
    "        print (' beats/minute, your heart rate is within the normal range!')\n",
    "    if int(Heart_rate) <= 59:\n",
    "        print (f' Because your heart rate is {Heart_rate}, and it is lower than 60 beats/minute, you may be at risk of bradycardia. Bradycardia is low heart rate.')\n",
    "    if int(Heart_rate) >= 101:\n",
    "        print(f'Because your heart rate is {Heart_rate}, and it is higher than 100 beats/minute, you may be at risk of tachycardia. Tachycardia is high heart rate.')\n",
    "heart_rate()"
   ]
  },
  {
   "cell_type": "code",
   "execution_count": null,
   "id": "9221f6b1",
   "metadata": {},
   "outputs": [],
   "source": []
  }
 ],
 "metadata": {
  "kernelspec": {
   "display_name": "Python 3 (ipykernel)",
   "language": "python",
   "name": "python3"
  },
  "language_info": {
   "codemirror_mode": {
    "name": "ipython",
    "version": 3
   },
   "file_extension": ".py",
   "mimetype": "text/x-python",
   "name": "python",
   "nbconvert_exporter": "python",
   "pygments_lexer": "ipython3",
   "version": "3.8.8"
  }
 },
 "nbformat": 4,
 "nbformat_minor": 5
}
