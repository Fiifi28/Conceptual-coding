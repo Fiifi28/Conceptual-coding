{
 "cells": [
  {
   "cell_type": "markdown",
   "id": "3e76d2be",
   "metadata": {},
   "source": [
    "# Write a program that tracks water intake over the week for the patients by using a function"
   ]
  },
  {
   "cell_type": "code",
   "execution_count": 2,
   "id": "ff583f84",
   "metadata": {},
   "outputs": [
    {
     "name": "stdout",
     "output_type": "stream",
     "text": [
      "Hi, Welcome back to the H20hydrator app Please, put in your logins to track your water intake\n",
      "Username: fresco98\n",
      "Password: joshua98\n",
      "Hi fresco98, Welcome back. Now you can track your water intake\n",
      "Monday - How much water did you drink in litres?:  2\n",
      "Tuesday - How much water did you drink in litres?:  1\n",
      "Wednesday - How much water did you drink in litres?:  0.5\n",
      "Thursday - How much water did you drink in litres?:  1\n",
      "Friday - How much water did you drink in litres?:  2\n",
      "Saturday - How much water did you drink in litres?:  3\n",
      "Sunday - How much water did you drink in litres?:  1\n",
      "You did poorly this week fresco98, Try reach 14 L next week. Good luck\n",
      "Your water intake for the wholw week was equal to 10.5\n"
     ]
    }
   ],
   "source": [
    "print('Hi, Welcome back to the H20hydrator app', end = ' ')\n",
    "print ('Please, put in your logins to track your water intake')\n",
    "\n",
    "username = input('Username: ')\n",
    "password = input('Password: ')\n",
    "\n",
    "print (f'Hi {username}, Welcome back. Now you can track your water intake')\n",
    "\n",
    "\n",
    "def water():\n",
    "    Monday = float(input(\"Monday - How much water did you drink in litres?:  \"))\n",
    "    Tuesday = float(input(\"Tuesday - How much water did you drink in litres?:  \"))\n",
    "    Wednesday = float(input(\"Wednesday - How much water did you drink in litres?:  \"))\n",
    "    Thursday = float(input(\"Thursday - How much water did you drink in litres?:  \"))\n",
    "    Friday = float(input(\"Friday - How much water did you drink in litres?:  \"))\n",
    "    Saturday = float(input(\"Saturday - How much water did you drink in litres?:  \"))\n",
    "    Sunday = float(input(\"Sunday - How much water did you drink in litres?:  \"))\n",
    "    \n",
    "    Results = Monday + Tuesday + Wednesday + Thursday + Friday + Saturday + Sunday\n",
    "    \n",
    "    \n",
    "    if Results >= 14:\n",
    "        print(f'Well done {username}, Your water intake this week was great!')\n",
    "    if Results < 14:\n",
    "              print (f'You did poorly this week {username}, Try reach 14 L next week. Good luck')\n",
    "    \n",
    "    print(f'Your water intake for the whole week was equal to {Results}')\n",
    "    \n",
    "water()\n",
    "\n",
    "\n",
    "\n"
   ]
  },
  {
   "cell_type": "code",
   "execution_count": null,
   "id": "787eba37",
   "metadata": {},
   "outputs": [],
   "source": []
  }
 ],
 "metadata": {
  "kernelspec": {
   "display_name": "Python 3 (ipykernel)",
   "language": "python",
   "name": "python3"
  },
  "language_info": {
   "codemirror_mode": {
    "name": "ipython",
    "version": 3
   },
   "file_extension": ".py",
   "mimetype": "text/x-python",
   "name": "python",
   "nbconvert_exporter": "python",
   "pygments_lexer": "ipython3",
   "version": "3.8.8"
  }
 },
 "nbformat": 4,
 "nbformat_minor": 5
}
