{
 "cells": [
  {
   "cell_type": "markdown",
   "id": "bd9b1978",
   "metadata": {},
   "source": [
    "# A programme that will guess random numbers"
   ]
  },
  {
   "cell_type": "code",
   "execution_count": 11,
   "id": "71a8b6e9",
   "metadata": {},
   "outputs": [
    {
     "name": "stdout",
     "output_type": "stream",
     "text": [
      "I'm thinking of a number between 1 and 10, can you guess what number it is?: 2\n",
      "Correct! You guessed 2 and this number is the same as 2\n"
     ]
    }
   ],
   "source": [
    "import random\n",
    "\n",
    "Guess = random.randint(1,10)\n",
    "\n",
    "Guess_custumer = int(input (\"I'm thinking of a number between 1 and 10, can you guess what number it is?: \"))\n",
    "\n",
    "if Guess == Guess_custumer:\n",
    "    print( f'Correct! You guessed {Guess_custumer} and this number is the same as what I guessed too which is {Guess}')\n",
    "    \n",
    "else:\n",
    "    print (' Guess not quite right. Try again')"
   ]
  },
  {
   "cell_type": "code",
   "execution_count": null,
   "id": "74f8267f",
   "metadata": {},
   "outputs": [],
   "source": []
  },
  {
   "cell_type": "code",
   "execution_count": null,
   "id": "c0d3aba3",
   "metadata": {},
   "outputs": [],
   "source": []
  }
 ],
 "metadata": {
  "kernelspec": {
   "display_name": "Python 3 (ipykernel)",
   "language": "python",
   "name": "python3"
  },
  "language_info": {
   "codemirror_mode": {
    "name": "ipython",
    "version": 3
   },
   "file_extension": ".py",
   "mimetype": "text/x-python",
   "name": "python",
   "nbconvert_exporter": "python",
   "pygments_lexer": "ipython3",
   "version": "3.8.8"
  }
 },
 "nbformat": 4,
 "nbformat_minor": 5
}
